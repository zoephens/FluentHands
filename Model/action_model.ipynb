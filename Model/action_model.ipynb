{
 "cells": [
  {
   "cell_type": "markdown",
   "metadata": {},
   "source": [
    "### Step 1: Import and Install Dependencies"
   ]
  },
  {
   "cell_type": "code",
   "execution_count": 4,
   "metadata": {},
   "outputs": [],
   "source": [
    "import cv2\n",
    "import numpy as np\n",
    "import os\n",
    "from matplotlib import pyplot as plt\n",
    "import time\n",
    "import mediapipe as mp\n"
   ]
  },
  {
   "cell_type": "markdown",
   "metadata": {},
   "source": [
    "### Step 2: Keypoints using MP Holistic"
   ]
  },
  {
   "cell_type": "code",
   "execution_count": 7,
   "metadata": {},
   "outputs": [],
   "source": [
    "mp_holistic = mp.solutions.holistic # Holistic model\n",
    "mp_drawing = mp.solutions.drawing_utils # Drawing utilities"
   ]
  },
  {
   "cell_type": "code",
   "execution_count": 8,
   "metadata": {},
   "outputs": [],
   "source": [
    "def mediapipe_detection(image, model):\n",
    "    image = cv2.cvtColor(image, cv2.COLOR_BGR2RGB) # COLOR-CONVERSION BGR-to-RGB\n",
    "    image.flags.writeable = False                  # Convert image to not-writeable\n",
    "    results = model.process(image)                 # Make prediction\n",
    "    image.flags.writeable = True                   # Convert image to writeable \n",
    "    image = cv2.cvtColor(image, cv2.COLOR_RGB2BGR) # COLOR-COVERSION RGB-to-BGR\n",
    "    return image, results"
   ]
  },
  {
   "cell_type": "code",
   "execution_count": 9,
   "metadata": {},
   "outputs": [],
   "source": [
    "def draw_landmarks(image, results):\n",
    "    # Draw face connections\n",
    "    mp_drawing.draw_landmarks(image, results.face_landmarks, mp_holistic.FACEMESH_TESSELATION,\n",
    "                                mp_drawing.DrawingSpec(color=(80, 110, 10), thickness=1, circle_radius=1),\n",
    "                                mp_drawing.DrawingSpec(color=(80, 256, 121), thickness=1, circle_radius=1)\n",
    "                                ) \n",
    "    \n",
    "    # Draw pose connections \n",
    "    mp_drawing.draw_landmarks(image, results.pose_landmarks, mp_holistic.POSE_CONNECTIONS,\n",
    "                                mp_drawing.DrawingSpec(color=(80, 22, 10), thickness=2, circle_radius=4),\n",
    "                                mp_drawing.DrawingSpec(color=(80, 44, 121), thickness=2, circle_radius=2)\n",
    "                                )\n",
    "\n",
    "    # Draw left hand connections \n",
    "    mp_drawing.draw_landmarks(image, results.left_hand_landmarks, mp_holistic.HAND_CONNECTIONS,\n",
    "                                mp_drawing.DrawingSpec(color=(121, 22, 76), thickness=2, circle_radius=4),\n",
    "                                mp_drawing.DrawingSpec(color=(121, 44, 250), thickness=2, circle_radius=2)\n",
    "                                ) \n",
    "\n",
    "    # Draw right hand connections\n",
    "    mp_drawing.draw_landmarks(image, results.right_hand_landmarks, mp_holistic.HAND_CONNECTIONS,\n",
    "                                mp_drawing.DrawingSpec(color=(245, 117, 66), thickness=2, circle_radius=4),\n",
    "                                mp_drawing.DrawingSpec(color=(245, 66, 230), thickness=2, circle_radius=2)\n",
    "                                ) "
   ]
  },
  {
   "cell_type": "code",
   "execution_count": 10,
   "metadata": {},
   "outputs": [],
   "source": [
    "# cap = cv2.VideoCapture(0)\n",
    "\n",
    "# # Set mediapipe model\n",
    "# with mp_holistic.Holistic(min_detection_confidence=0.5, min_tracking_confidence=0.5) as holistic:\n",
    "#     while cap.isOpened():\n",
    "#         # Read feed\n",
    "#         ret, frame = cap.read()\n",
    "\n",
    "#         # Flip the frame horizontally\n",
    "#         # flipped_frame = cv2.flip(frame, 1)\n",
    "\n",
    "#         # Make detections\n",
    "#         image, results = mediapipe_detection(frame, holistic)\n",
    "#         print(results)\n",
    "        \n",
    "#         # Draw landmarks\n",
    "#         draw_landmarks(image, results)\n",
    "\n",
    "#         # Show to screen\n",
    "#         cv2.imshow('FluentHands Feed', image)\n",
    "\n",
    "#         # Break Gracefully\n",
    "#         if cv2.waitKey(10) & 0xFF == ord('q'):\n",
    "#             break\n",
    "\n",
    "#     cap.release()\n",
    "#     cv2.destroyAllWindows()"
   ]
  },
  {
   "cell_type": "code",
   "execution_count": 11,
   "metadata": {},
   "outputs": [],
   "source": [
    "# draw_landmarks(frame, results)"
   ]
  },
  {
   "cell_type": "code",
   "execution_count": 12,
   "metadata": {},
   "outputs": [],
   "source": [
    "# plt.imshow(cv2.cvtColor(frame, cv2.COLOR_BGR2RGB))"
   ]
  },
  {
   "cell_type": "markdown",
   "metadata": {},
   "source": [
    "### Step 3: Extract Keypoint Values"
   ]
  },
  {
   "cell_type": "code",
   "execution_count": 13,
   "metadata": {},
   "outputs": [],
   "source": [
    "def extract_keypoints(results):\n",
    "    pose = np.array([[res.x, res.y, res.z, res.visibility] for res in results.pose_landmarks.landmark]).flatten() if results.pose_landmarks else np.zeros(33*4)\n",
    "    face = np.array([[res.x, res.y, res.z] for res in results.face_landmarks.landmark]).flatten() if results.face_landmarks else np.zeros(468*3)\n",
    "    lh = np.array([[res.x, res.y, res.z] for res in results.left_hand_landmarks.landmark]).flatten() if results.left_hand_landmarks else np.zeros(21*3)\n",
    "    rh = np.array([[res.x, res.y, res.z] for res in results.right_hand_landmarks.landmark]).flatten() if results.right_hand_landmarks else np.zeros(21*3)\n",
    "    return np.concatenate([pose, face, lh, rh])"
   ]
  },
  {
   "cell_type": "code",
   "execution_count": 14,
   "metadata": {},
   "outputs": [],
   "source": [
    "# result_test = extract_keypoints(results)\n",
    "# len(result_test)"
   ]
  },
  {
   "cell_type": "code",
   "execution_count": 15,
   "metadata": {},
   "outputs": [],
   "source": [
    "# np.save('0', result_test)\n",
    "# np.load('0.npy')"
   ]
  },
  {
   "cell_type": "markdown",
   "metadata": {},
   "source": [
    "### Step 4: Setup Folders for Collection"
   ]
  },
  {
   "cell_type": "code",
   "execution_count": 16,
   "metadata": {},
   "outputs": [],
   "source": [
    "import json\n",
    "\n",
    "# Path for exported data, numpy arrays\n",
    "DATA_PATH = os.path.join('MP_Data') \n",
    "\n",
    "with open('labels.json', 'r') as file:\n",
    "    # Actions that we try to detect\n",
    "    actions = np.array(json.load(file))\n",
    "\n",
    "# Thirty videos worth of data\n",
    "no_sequences = 30\n",
    "\n",
    "# Videos are going to be 30 frames in length\n",
    "sequence_length = 30"
   ]
  },
  {
   "cell_type": "code",
   "execution_count": 17,
   "metadata": {},
   "outputs": [],
   "source": [
    "for action in actions:\n",
    "    for sequence in range(no_sequences):\n",
    "        try:\n",
    "            os.makedirs(os.path.join(DATA_PATH, action, str(sequence)))\n",
    "        except:\n",
    "            pass"
   ]
  },
  {
   "cell_type": "markdown",
   "metadata": {},
   "source": [
    "### Step 5: Collect Keypoint Values for Training and Testing"
   ]
  },
  {
   "cell_type": "code",
   "execution_count": 20,
   "metadata": {},
   "outputs": [
    {
     "name": "stdout",
     "output_type": "stream",
     "text": [
      "<class 'mediapipe.python.solution_base.SolutionOutputs'>\n",
      "<class 'mediapipe.python.solution_base.SolutionOutputs'>\n",
      "<class 'mediapipe.python.solution_base.SolutionOutputs'>\n",
      "<class 'mediapipe.python.solution_base.SolutionOutputs'>\n",
      "<class 'mediapipe.python.solution_base.SolutionOutputs'>\n",
      "<class 'mediapipe.python.solution_base.SolutionOutputs'>\n",
      "<class 'mediapipe.python.solution_base.SolutionOutputs'>\n",
      "<class 'mediapipe.python.solution_base.SolutionOutputs'>\n",
      "<class 'mediapipe.python.solution_base.SolutionOutputs'>\n",
      "<class 'mediapipe.python.solution_base.SolutionOutputs'>\n",
      "<class 'mediapipe.python.solution_base.SolutionOutputs'>\n",
      "<class 'mediapipe.python.solution_base.SolutionOutputs'>\n",
      "<class 'mediapipe.python.solution_base.SolutionOutputs'>\n",
      "<class 'mediapipe.python.solution_base.SolutionOutputs'>\n",
      "<class 'mediapipe.python.solution_base.SolutionOutputs'>\n",
      "<class 'mediapipe.python.solution_base.SolutionOutputs'>\n",
      "<class 'mediapipe.python.solution_base.SolutionOutputs'>\n",
      "<class 'mediapipe.python.solution_base.SolutionOutputs'>\n",
      "<class 'mediapipe.python.solution_base.SolutionOutputs'>\n",
      "<class 'mediapipe.python.solution_base.SolutionOutputs'>\n",
      "<class 'mediapipe.python.solution_base.SolutionOutputs'>\n",
      "<class 'mediapipe.python.solution_base.SolutionOutputs'>\n",
      "<class 'mediapipe.python.solution_base.SolutionOutputs'>\n",
      "<class 'mediapipe.python.solution_base.SolutionOutputs'>\n",
      "<class 'mediapipe.python.solution_base.SolutionOutputs'>\n",
      "<class 'mediapipe.python.solution_base.SolutionOutputs'>\n",
      "<class 'mediapipe.python.solution_base.SolutionOutputs'>\n",
      "<class 'mediapipe.python.solution_base.SolutionOutputs'>\n",
      "<class 'mediapipe.python.solution_base.SolutionOutputs'>\n",
      "<class 'mediapipe.python.solution_base.SolutionOutputs'>\n",
      "<class 'mediapipe.python.solution_base.SolutionOutputs'>\n",
      "<class 'mediapipe.python.solution_base.SolutionOutputs'>\n",
      "<class 'mediapipe.python.solution_base.SolutionOutputs'>\n",
      "<class 'mediapipe.python.solution_base.SolutionOutputs'>\n",
      "<class 'mediapipe.python.solution_base.SolutionOutputs'>\n",
      "<class 'mediapipe.python.solution_base.SolutionOutputs'>\n",
      "<class 'mediapipe.python.solution_base.SolutionOutputs'>\n",
      "<class 'mediapipe.python.solution_base.SolutionOutputs'>\n",
      "<class 'mediapipe.python.solution_base.SolutionOutputs'>\n",
      "<class 'mediapipe.python.solution_base.SolutionOutputs'>\n",
      "<class 'mediapipe.python.solution_base.SolutionOutputs'>\n",
      "<class 'mediapipe.python.solution_base.SolutionOutputs'>\n",
      "<class 'mediapipe.python.solution_base.SolutionOutputs'>\n",
      "<class 'mediapipe.python.solution_base.SolutionOutputs'>\n",
      "<class 'mediapipe.python.solution_base.SolutionOutputs'>\n",
      "<class 'mediapipe.python.solution_base.SolutionOutputs'>\n",
      "<class 'mediapipe.python.solution_base.SolutionOutputs'>\n",
      "<class 'mediapipe.python.solution_base.SolutionOutputs'>\n",
      "<class 'mediapipe.python.solution_base.SolutionOutputs'>\n",
      "<class 'mediapipe.python.solution_base.SolutionOutputs'>\n",
      "<class 'mediapipe.python.solution_base.SolutionOutputs'>\n",
      "<class 'mediapipe.python.solution_base.SolutionOutputs'>\n",
      "<class 'mediapipe.python.solution_base.SolutionOutputs'>\n",
      "<class 'mediapipe.python.solution_base.SolutionOutputs'>\n",
      "<class 'mediapipe.python.solution_base.SolutionOutputs'>\n",
      "<class 'mediapipe.python.solution_base.SolutionOutputs'>\n",
      "<class 'mediapipe.python.solution_base.SolutionOutputs'>\n",
      "<class 'mediapipe.python.solution_base.SolutionOutputs'>\n",
      "<class 'mediapipe.python.solution_base.SolutionOutputs'>\n",
      "<class 'mediapipe.python.solution_base.SolutionOutputs'>\n",
      "<class 'mediapipe.python.solution_base.SolutionOutputs'>\n",
      "<class 'mediapipe.python.solution_base.SolutionOutputs'>\n",
      "<class 'mediapipe.python.solution_base.SolutionOutputs'>\n",
      "<class 'mediapipe.python.solution_base.SolutionOutputs'>\n",
      "<class 'mediapipe.python.solution_base.SolutionOutputs'>\n",
      "<class 'mediapipe.python.solution_base.SolutionOutputs'>\n",
      "<class 'mediapipe.python.solution_base.SolutionOutputs'>\n",
      "<class 'mediapipe.python.solution_base.SolutionOutputs'>\n",
      "<class 'mediapipe.python.solution_base.SolutionOutputs'>\n",
      "<class 'mediapipe.python.solution_base.SolutionOutputs'>\n",
      "<class 'mediapipe.python.solution_base.SolutionOutputs'>\n",
      "<class 'mediapipe.python.solution_base.SolutionOutputs'>\n",
      "<class 'mediapipe.python.solution_base.SolutionOutputs'>\n",
      "<class 'mediapipe.python.solution_base.SolutionOutputs'>\n",
      "<class 'mediapipe.python.solution_base.SolutionOutputs'>\n",
      "<class 'mediapipe.python.solution_base.SolutionOutputs'>\n",
      "<class 'mediapipe.python.solution_base.SolutionOutputs'>\n",
      "<class 'mediapipe.python.solution_base.SolutionOutputs'>\n",
      "<class 'mediapipe.python.solution_base.SolutionOutputs'>\n",
      "<class 'mediapipe.python.solution_base.SolutionOutputs'>\n",
      "<class 'mediapipe.python.solution_base.SolutionOutputs'>\n",
      "<class 'mediapipe.python.solution_base.SolutionOutputs'>\n",
      "<class 'mediapipe.python.solution_base.SolutionOutputs'>\n",
      "<class 'mediapipe.python.solution_base.SolutionOutputs'>\n",
      "<class 'mediapipe.python.solution_base.SolutionOutputs'>\n",
      "<class 'mediapipe.python.solution_base.SolutionOutputs'>\n",
      "<class 'mediapipe.python.solution_base.SolutionOutputs'>\n",
      "<class 'mediapipe.python.solution_base.SolutionOutputs'>\n",
      "<class 'mediapipe.python.solution_base.SolutionOutputs'>\n",
      "<class 'mediapipe.python.solution_base.SolutionOutputs'>\n",
      "<class 'mediapipe.python.solution_base.SolutionOutputs'>\n",
      "<class 'mediapipe.python.solution_base.SolutionOutputs'>\n",
      "<class 'mediapipe.python.solution_base.SolutionOutputs'>\n",
      "<class 'mediapipe.python.solution_base.SolutionOutputs'>\n",
      "<class 'mediapipe.python.solution_base.SolutionOutputs'>\n",
      "<class 'mediapipe.python.solution_base.SolutionOutputs'>\n",
      "<class 'mediapipe.python.solution_base.SolutionOutputs'>\n",
      "<class 'mediapipe.python.solution_base.SolutionOutputs'>\n",
      "<class 'mediapipe.python.solution_base.SolutionOutputs'>\n",
      "<class 'mediapipe.python.solution_base.SolutionOutputs'>\n",
      "<class 'mediapipe.python.solution_base.SolutionOutputs'>\n",
      "<class 'mediapipe.python.solution_base.SolutionOutputs'>\n",
      "<class 'mediapipe.python.solution_base.SolutionOutputs'>\n",
      "<class 'mediapipe.python.solution_base.SolutionOutputs'>\n",
      "<class 'mediapipe.python.solution_base.SolutionOutputs'>\n",
      "<class 'mediapipe.python.solution_base.SolutionOutputs'>\n",
      "<class 'mediapipe.python.solution_base.SolutionOutputs'>\n",
      "<class 'mediapipe.python.solution_base.SolutionOutputs'>\n",
      "<class 'mediapipe.python.solution_base.SolutionOutputs'>\n",
      "<class 'mediapipe.python.solution_base.SolutionOutputs'>\n",
      "<class 'mediapipe.python.solution_base.SolutionOutputs'>\n",
      "<class 'mediapipe.python.solution_base.SolutionOutputs'>\n",
      "<class 'mediapipe.python.solution_base.SolutionOutputs'>\n",
      "<class 'mediapipe.python.solution_base.SolutionOutputs'>\n",
      "<class 'mediapipe.python.solution_base.SolutionOutputs'>\n",
      "<class 'mediapipe.python.solution_base.SolutionOutputs'>\n",
      "<class 'mediapipe.python.solution_base.SolutionOutputs'>\n",
      "<class 'mediapipe.python.solution_base.SolutionOutputs'>\n",
      "<class 'mediapipe.python.solution_base.SolutionOutputs'>\n",
      "<class 'mediapipe.python.solution_base.SolutionOutputs'>\n",
      "<class 'mediapipe.python.solution_base.SolutionOutputs'>\n",
      "<class 'mediapipe.python.solution_base.SolutionOutputs'>\n",
      "<class 'mediapipe.python.solution_base.SolutionOutputs'>\n",
      "<class 'mediapipe.python.solution_base.SolutionOutputs'>\n",
      "<class 'mediapipe.python.solution_base.SolutionOutputs'>\n",
      "<class 'mediapipe.python.solution_base.SolutionOutputs'>\n",
      "<class 'mediapipe.python.solution_base.SolutionOutputs'>\n",
      "<class 'mediapipe.python.solution_base.SolutionOutputs'>\n",
      "<class 'mediapipe.python.solution_base.SolutionOutputs'>\n",
      "<class 'mediapipe.python.solution_base.SolutionOutputs'>\n",
      "<class 'mediapipe.python.solution_base.SolutionOutputs'>\n",
      "<class 'mediapipe.python.solution_base.SolutionOutputs'>\n",
      "<class 'mediapipe.python.solution_base.SolutionOutputs'>\n",
      "<class 'mediapipe.python.solution_base.SolutionOutputs'>\n",
      "<class 'mediapipe.python.solution_base.SolutionOutputs'>\n",
      "<class 'mediapipe.python.solution_base.SolutionOutputs'>\n",
      "<class 'mediapipe.python.solution_base.SolutionOutputs'>\n",
      "<class 'mediapipe.python.solution_base.SolutionOutputs'>\n",
      "<class 'mediapipe.python.solution_base.SolutionOutputs'>\n",
      "<class 'mediapipe.python.solution_base.SolutionOutputs'>\n",
      "<class 'mediapipe.python.solution_base.SolutionOutputs'>\n",
      "<class 'mediapipe.python.solution_base.SolutionOutputs'>\n",
      "<class 'mediapipe.python.solution_base.SolutionOutputs'>\n",
      "<class 'mediapipe.python.solution_base.SolutionOutputs'>\n",
      "<class 'mediapipe.python.solution_base.SolutionOutputs'>\n",
      "<class 'mediapipe.python.solution_base.SolutionOutputs'>\n",
      "<class 'mediapipe.python.solution_base.SolutionOutputs'>\n",
      "<class 'mediapipe.python.solution_base.SolutionOutputs'>\n",
      "<class 'mediapipe.python.solution_base.SolutionOutputs'>\n",
      "<class 'mediapipe.python.solution_base.SolutionOutputs'>\n",
      "<class 'mediapipe.python.solution_base.SolutionOutputs'>\n",
      "<class 'mediapipe.python.solution_base.SolutionOutputs'>\n",
      "<class 'mediapipe.python.solution_base.SolutionOutputs'>\n",
      "<class 'mediapipe.python.solution_base.SolutionOutputs'>\n",
      "<class 'mediapipe.python.solution_base.SolutionOutputs'>\n",
      "<class 'mediapipe.python.solution_base.SolutionOutputs'>\n",
      "<class 'mediapipe.python.solution_base.SolutionOutputs'>\n",
      "<class 'mediapipe.python.solution_base.SolutionOutputs'>\n",
      "<class 'mediapipe.python.solution_base.SolutionOutputs'>\n",
      "<class 'mediapipe.python.solution_base.SolutionOutputs'>\n",
      "<class 'mediapipe.python.solution_base.SolutionOutputs'>\n",
      "<class 'mediapipe.python.solution_base.SolutionOutputs'>\n",
      "<class 'mediapipe.python.solution_base.SolutionOutputs'>\n",
      "<class 'mediapipe.python.solution_base.SolutionOutputs'>\n",
      "<class 'mediapipe.python.solution_base.SolutionOutputs'>\n",
      "<class 'mediapipe.python.solution_base.SolutionOutputs'>\n",
      "<class 'mediapipe.python.solution_base.SolutionOutputs'>\n",
      "<class 'mediapipe.python.solution_base.SolutionOutputs'>\n",
      "<class 'mediapipe.python.solution_base.SolutionOutputs'>\n",
      "<class 'mediapipe.python.solution_base.SolutionOutputs'>\n",
      "<class 'mediapipe.python.solution_base.SolutionOutputs'>\n",
      "<class 'mediapipe.python.solution_base.SolutionOutputs'>\n",
      "<class 'mediapipe.python.solution_base.SolutionOutputs'>\n",
      "<class 'mediapipe.python.solution_base.SolutionOutputs'>\n",
      "<class 'mediapipe.python.solution_base.SolutionOutputs'>\n",
      "<class 'mediapipe.python.solution_base.SolutionOutputs'>\n",
      "<class 'mediapipe.python.solution_base.SolutionOutputs'>\n",
      "<class 'mediapipe.python.solution_base.SolutionOutputs'>\n",
      "<class 'mediapipe.python.solution_base.SolutionOutputs'>\n",
      "<class 'mediapipe.python.solution_base.SolutionOutputs'>\n",
      "<class 'mediapipe.python.solution_base.SolutionOutputs'>\n",
      "<class 'mediapipe.python.solution_base.SolutionOutputs'>\n",
      "<class 'mediapipe.python.solution_base.SolutionOutputs'>\n",
      "<class 'mediapipe.python.solution_base.SolutionOutputs'>\n",
      "<class 'mediapipe.python.solution_base.SolutionOutputs'>\n",
      "<class 'mediapipe.python.solution_base.SolutionOutputs'>\n",
      "<class 'mediapipe.python.solution_base.SolutionOutputs'>\n",
      "<class 'mediapipe.python.solution_base.SolutionOutputs'>\n",
      "<class 'mediapipe.python.solution_base.SolutionOutputs'>\n",
      "<class 'mediapipe.python.solution_base.SolutionOutputs'>\n",
      "<class 'mediapipe.python.solution_base.SolutionOutputs'>\n",
      "<class 'mediapipe.python.solution_base.SolutionOutputs'>\n",
      "<class 'mediapipe.python.solution_base.SolutionOutputs'>\n",
      "<class 'mediapipe.python.solution_base.SolutionOutputs'>\n",
      "<class 'mediapipe.python.solution_base.SolutionOutputs'>\n",
      "<class 'mediapipe.python.solution_base.SolutionOutputs'>\n",
      "<class 'mediapipe.python.solution_base.SolutionOutputs'>\n",
      "<class 'mediapipe.python.solution_base.SolutionOutputs'>\n",
      "<class 'mediapipe.python.solution_base.SolutionOutputs'>\n",
      "<class 'mediapipe.python.solution_base.SolutionOutputs'>\n",
      "<class 'mediapipe.python.solution_base.SolutionOutputs'>\n",
      "<class 'mediapipe.python.solution_base.SolutionOutputs'>\n",
      "<class 'mediapipe.python.solution_base.SolutionOutputs'>\n",
      "<class 'mediapipe.python.solution_base.SolutionOutputs'>\n",
      "<class 'mediapipe.python.solution_base.SolutionOutputs'>\n",
      "<class 'mediapipe.python.solution_base.SolutionOutputs'>\n",
      "<class 'mediapipe.python.solution_base.SolutionOutputs'>\n",
      "<class 'mediapipe.python.solution_base.SolutionOutputs'>\n",
      "<class 'mediapipe.python.solution_base.SolutionOutputs'>\n",
      "<class 'mediapipe.python.solution_base.SolutionOutputs'>\n",
      "<class 'mediapipe.python.solution_base.SolutionOutputs'>\n",
      "<class 'mediapipe.python.solution_base.SolutionOutputs'>\n",
      "<class 'mediapipe.python.solution_base.SolutionOutputs'>\n",
      "<class 'mediapipe.python.solution_base.SolutionOutputs'>\n",
      "<class 'mediapipe.python.solution_base.SolutionOutputs'>\n",
      "<class 'mediapipe.python.solution_base.SolutionOutputs'>\n",
      "<class 'mediapipe.python.solution_base.SolutionOutputs'>\n",
      "<class 'mediapipe.python.solution_base.SolutionOutputs'>\n",
      "<class 'mediapipe.python.solution_base.SolutionOutputs'>\n",
      "<class 'mediapipe.python.solution_base.SolutionOutputs'>\n",
      "<class 'mediapipe.python.solution_base.SolutionOutputs'>\n",
      "<class 'mediapipe.python.solution_base.SolutionOutputs'>\n",
      "<class 'mediapipe.python.solution_base.SolutionOutputs'>\n",
      "<class 'mediapipe.python.solution_base.SolutionOutputs'>\n",
      "<class 'mediapipe.python.solution_base.SolutionOutputs'>\n",
      "<class 'mediapipe.python.solution_base.SolutionOutputs'>\n",
      "<class 'mediapipe.python.solution_base.SolutionOutputs'>\n",
      "<class 'mediapipe.python.solution_base.SolutionOutputs'>\n",
      "<class 'mediapipe.python.solution_base.SolutionOutputs'>\n",
      "<class 'mediapipe.python.solution_base.SolutionOutputs'>\n",
      "<class 'mediapipe.python.solution_base.SolutionOutputs'>\n",
      "<class 'mediapipe.python.solution_base.SolutionOutputs'>\n",
      "<class 'mediapipe.python.solution_base.SolutionOutputs'>\n",
      "<class 'mediapipe.python.solution_base.SolutionOutputs'>\n",
      "<class 'mediapipe.python.solution_base.SolutionOutputs'>\n",
      "<class 'mediapipe.python.solution_base.SolutionOutputs'>\n",
      "<class 'mediapipe.python.solution_base.SolutionOutputs'>\n",
      "<class 'mediapipe.python.solution_base.SolutionOutputs'>\n",
      "<class 'mediapipe.python.solution_base.SolutionOutputs'>\n",
      "<class 'mediapipe.python.solution_base.SolutionOutputs'>\n",
      "<class 'mediapipe.python.solution_base.SolutionOutputs'>\n",
      "<class 'mediapipe.python.solution_base.SolutionOutputs'>\n",
      "<class 'mediapipe.python.solution_base.SolutionOutputs'>\n",
      "<class 'mediapipe.python.solution_base.SolutionOutputs'>\n",
      "<class 'mediapipe.python.solution_base.SolutionOutputs'>\n",
      "<class 'mediapipe.python.solution_base.SolutionOutputs'>\n",
      "<class 'mediapipe.python.solution_base.SolutionOutputs'>\n",
      "<class 'mediapipe.python.solution_base.SolutionOutputs'>\n",
      "<class 'mediapipe.python.solution_base.SolutionOutputs'>\n",
      "<class 'mediapipe.python.solution_base.SolutionOutputs'>\n",
      "<class 'mediapipe.python.solution_base.SolutionOutputs'>\n",
      "<class 'mediapipe.python.solution_base.SolutionOutputs'>\n",
      "<class 'mediapipe.python.solution_base.SolutionOutputs'>\n",
      "<class 'mediapipe.python.solution_base.SolutionOutputs'>\n",
      "<class 'mediapipe.python.solution_base.SolutionOutputs'>\n",
      "<class 'mediapipe.python.solution_base.SolutionOutputs'>\n",
      "<class 'mediapipe.python.solution_base.SolutionOutputs'>\n",
      "<class 'mediapipe.python.solution_base.SolutionOutputs'>\n",
      "<class 'mediapipe.python.solution_base.SolutionOutputs'>\n",
      "<class 'mediapipe.python.solution_base.SolutionOutputs'>\n",
      "<class 'mediapipe.python.solution_base.SolutionOutputs'>\n",
      "<class 'mediapipe.python.solution_base.SolutionOutputs'>\n",
      "<class 'mediapipe.python.solution_base.SolutionOutputs'>\n",
      "<class 'mediapipe.python.solution_base.SolutionOutputs'>\n",
      "<class 'mediapipe.python.solution_base.SolutionOutputs'>\n",
      "<class 'mediapipe.python.solution_base.SolutionOutputs'>\n",
      "<class 'mediapipe.python.solution_base.SolutionOutputs'>\n",
      "<class 'mediapipe.python.solution_base.SolutionOutputs'>\n",
      "<class 'mediapipe.python.solution_base.SolutionOutputs'>\n",
      "<class 'mediapipe.python.solution_base.SolutionOutputs'>\n",
      "<class 'mediapipe.python.solution_base.SolutionOutputs'>\n",
      "<class 'mediapipe.python.solution_base.SolutionOutputs'>\n",
      "<class 'mediapipe.python.solution_base.SolutionOutputs'>\n",
      "<class 'mediapipe.python.solution_base.SolutionOutputs'>\n",
      "<class 'mediapipe.python.solution_base.SolutionOutputs'>\n",
      "<class 'mediapipe.python.solution_base.SolutionOutputs'>\n",
      "<class 'mediapipe.python.solution_base.SolutionOutputs'>\n",
      "<class 'mediapipe.python.solution_base.SolutionOutputs'>\n",
      "<class 'mediapipe.python.solution_base.SolutionOutputs'>\n",
      "<class 'mediapipe.python.solution_base.SolutionOutputs'>\n",
      "<class 'mediapipe.python.solution_base.SolutionOutputs'>\n",
      "<class 'mediapipe.python.solution_base.SolutionOutputs'>\n",
      "<class 'mediapipe.python.solution_base.SolutionOutputs'>\n",
      "<class 'mediapipe.python.solution_base.SolutionOutputs'>\n",
      "<class 'mediapipe.python.solution_base.SolutionOutputs'>\n",
      "<class 'mediapipe.python.solution_base.SolutionOutputs'>\n",
      "<class 'mediapipe.python.solution_base.SolutionOutputs'>\n",
      "<class 'mediapipe.python.solution_base.SolutionOutputs'>\n",
      "<class 'mediapipe.python.solution_base.SolutionOutputs'>\n",
      "<class 'mediapipe.python.solution_base.SolutionOutputs'>\n",
      "<class 'mediapipe.python.solution_base.SolutionOutputs'>\n",
      "<class 'mediapipe.python.solution_base.SolutionOutputs'>\n",
      "<class 'mediapipe.python.solution_base.SolutionOutputs'>\n",
      "<class 'mediapipe.python.solution_base.SolutionOutputs'>\n",
      "<class 'mediapipe.python.solution_base.SolutionOutputs'>\n",
      "<class 'mediapipe.python.solution_base.SolutionOutputs'>\n"
     ]
    },
    {
     "ename": "",
     "evalue": "",
     "output_type": "error",
     "traceback": [
      "\u001b[1;31mThe Kernel crashed while executing code in the current cell or a previous cell. \n",
      "\u001b[1;31mPlease review the code in the cell(s) to identify a possible cause of the failure. \n",
      "\u001b[1;31mClick <a href='https://aka.ms/vscodeJupyterKernelCrash'>here</a> for more info. \n",
      "\u001b[1;31mView Jupyter <a href='command:jupyter.viewOutput'>log</a> for further details."
     ]
    }
   ],
   "source": [
    "cap = cv2.VideoCapture(0)\n",
    "\n",
    "# Set mediapipe model\n",
    "with mp_holistic.Holistic(min_detection_confidence=0.5, min_tracking_confidence=0.5) as holistic:\n",
    "    # Loop through actions\n",
    "    for action in actions:\n",
    "        # Loop through sequences aka videos\n",
    "        for sequence in range(no_sequences):\n",
    "            # Loop through video length aka sequence length\n",
    "            for frame_num in range(sequence_length):\n",
    "\n",
    "                # Read feed\n",
    "                ret, frame = cap.read()\n",
    "\n",
    "                # Make detections\n",
    "                image, results = mediapipe_detection(frame, holistic)\n",
    "                print(results)\n",
    "                \n",
    "                # Draw landmarks\n",
    "                draw_landmarks(image, results)\n",
    "\n",
    "                # Wait Logic\n",
    "                if frame_num == 0: \n",
    "                    cv2.putText(image, 'STARTING COLLECTION', (120,200), \n",
    "                                cv2.FONT_HERSHEY_SIMPLEX, 1, (0,255, 0), 4, cv2.LINE_AA)\n",
    "                    cv2.putText(image, 'Collecting frames for {} Video Number {}'.format(action, sequence), (15,12), \n",
    "                                cv2.FONT_HERSHEY_SIMPLEX, 0.5, (0, 0, 255), 1, cv2.LINE_AA)\n",
    "                    # Show to screen\n",
    "                    # cv2.imshow('FluentHands Feed', image)\n",
    "                    cv2.waitKey(1000) #i wanna make this longer\n",
    "                else: \n",
    "                    cv2.putText(image, 'Collecting frames for {} Video Number {}'.format(action, sequence), (15,12), \n",
    "                                cv2.FONT_HERSHEY_SIMPLEX, 0.5, (0, 0, 255), 1, cv2.LINE_AA)\n",
    "                \n",
    "                # Export Keypoints\n",
    "                keypoints = extract_keypoints(results)\n",
    "                npy_path = os.path.join(DATA_PATH, action, str(sequence), str(frame_num))\n",
    "                np.save(npy_path, keypoints)\n",
    "\n",
    "                # Show to screen\n",
    "                cv2.imshow('FluentHands Feed', image)\n",
    "\n",
    "                # Break Gracefully\n",
    "                if cv2.waitKey(1) & 0xFF == ord('q'):\n",
    "                    break\n",
    "\n",
    "    cap.release()\n",
    "    cv2.destroyAllWindows()"
   ]
  },
  {
   "cell_type": "markdown",
   "metadata": {},
   "source": [
    "### Step 6: Preprocess Data and Create Labels and Features"
   ]
  },
  {
   "cell_type": "code",
   "execution_count": 13,
   "metadata": {},
   "outputs": [
    {
     "name": "stdout",
     "output_type": "stream",
     "text": [
      "Requirement already satisfied: scikit-learn in c:\\users\\banan\\desktop\\fluenthands\\fluenthands\\.venv\\lib\\site-packages (1.3.2)\n",
      "Requirement already satisfied: numpy<2.0,>=1.17.3 in c:\\users\\banan\\desktop\\fluenthands\\fluenthands\\.venv\\lib\\site-packages (from scikit-learn) (1.24.4)\n",
      "Requirement already satisfied: scipy>=1.5.0 in c:\\users\\banan\\desktop\\fluenthands\\fluenthands\\.venv\\lib\\site-packages (from scikit-learn) (1.10.1)\n",
      "Requirement already satisfied: joblib>=1.1.1 in c:\\users\\banan\\desktop\\fluenthands\\fluenthands\\.venv\\lib\\site-packages (from scikit-learn) (1.4.2)\n",
      "Requirement already satisfied: threadpoolctl>=2.0.0 in c:\\users\\banan\\desktop\\fluenthands\\fluenthands\\.venv\\lib\\site-packages (from scikit-learn) (3.5.0)\n",
      "Note: you may need to restart the kernel to use updated packages.\n"
     ]
    }
   ],
   "source": [
    "%pip install scikit-learn"
   ]
  },
  {
   "cell_type": "code",
   "execution_count": 22,
   "metadata": {},
   "outputs": [],
   "source": [
    "from sklearn.model_selection import train_test_split\n",
    "from tensorflow.keras.utils import to_categorical"
   ]
  },
  {
   "cell_type": "code",
   "execution_count": 23,
   "metadata": {},
   "outputs": [
    {
     "data": {
      "text/plain": [
       "{'A': 0,\n",
       " 'B': 1,\n",
       " 'C': 2,\n",
       " 'D': 3,\n",
       " 'E': 4,\n",
       " 'F': 5,\n",
       " 'G': 6,\n",
       " 'H': 7,\n",
       " 'I': 8,\n",
       " 'J': 9,\n",
       " 'K': 10,\n",
       " 'L': 11,\n",
       " 'M': 12,\n",
       " 'N': 13,\n",
       " 'O': 14,\n",
       " 'P': 15,\n",
       " 'Q': 16,\n",
       " 'R': 17,\n",
       " 'S': 18,\n",
       " 'T': 19,\n",
       " 'U': 20,\n",
       " 'V': 21,\n",
       " 'W': 22,\n",
       " 'X': 23,\n",
       " 'Y': 24,\n",
       " 'Z': 25,\n",
       " 'Hello': 26,\n",
       " 'Thank You': 27}"
      ]
     },
     "execution_count": 23,
     "metadata": {},
     "output_type": "execute_result"
    }
   ],
   "source": [
    "label_map = {label:num for num, label in enumerate(actions)}\n",
    "label_map"
   ]
  },
  {
   "cell_type": "code",
   "execution_count": 27,
   "metadata": {},
   "outputs": [],
   "source": [
    "sequences, labels = [], []\n",
    "\n",
    "for action in actions:\n",
    "    for sequence in range(no_sequences):\n",
    "        window = []\n",
    "        for frame_num in range(sequence_length):\n",
    "            res = np.load(os.path.join(DATA_PATH, action, str(sequence), \"{}.npy\".format(frame_num)))\n",
    "            window.append(res)\n",
    "        sequences.append(window)\n",
    "        labels.append(label_map[action])\n",
    "    # for sequence in np.array(os.listdir(os.path.join(DATA_PATH, action))).astype(int):\n",
    "    #     window = []\n",
    "    #     for frame_num in range(sequence_length):\n",
    "    #         res = np.load(os.path.join(DATA_PATH, action, str(sequence), \"{}.npy\".format(frame_num)))\n",
    "    #         window.append(res)\n",
    "    #     sequences.append(window)\n",
    "    #     labels.append(label_map[action])"
   ]
  },
  {
   "cell_type": "code",
   "execution_count": 28,
   "metadata": {},
   "outputs": [
    {
     "data": {
      "text/plain": [
       "(840, 30, 1662)"
      ]
     },
     "execution_count": 28,
     "metadata": {},
     "output_type": "execute_result"
    }
   ],
   "source": [
    "np.array(sequences).shape"
   ]
  },
  {
   "cell_type": "code",
   "execution_count": 29,
   "metadata": {},
   "outputs": [
    {
     "data": {
      "text/plain": [
       "(840,)"
      ]
     },
     "execution_count": 29,
     "metadata": {},
     "output_type": "execute_result"
    }
   ],
   "source": [
    "np.array(labels).shape"
   ]
  },
  {
   "cell_type": "code",
   "execution_count": 30,
   "metadata": {},
   "outputs": [],
   "source": [
    "X = np.array(sequences)"
   ]
  },
  {
   "cell_type": "code",
   "execution_count": 31,
   "metadata": {},
   "outputs": [
    {
     "data": {
      "text/plain": [
       "(840, 30, 1662)"
      ]
     },
     "execution_count": 31,
     "metadata": {},
     "output_type": "execute_result"
    }
   ],
   "source": [
    "X.shape"
   ]
  },
  {
   "cell_type": "code",
   "execution_count": 32,
   "metadata": {},
   "outputs": [
    {
     "data": {
      "text/plain": [
       "array([[1, 0, 0, ..., 0, 0, 0],\n",
       "       [1, 0, 0, ..., 0, 0, 0],\n",
       "       [1, 0, 0, ..., 0, 0, 0],\n",
       "       ...,\n",
       "       [0, 0, 0, ..., 0, 0, 1],\n",
       "       [0, 0, 0, ..., 0, 0, 1],\n",
       "       [0, 0, 0, ..., 0, 0, 1]])"
      ]
     },
     "execution_count": 32,
     "metadata": {},
     "output_type": "execute_result"
    }
   ],
   "source": [
    "y = to_categorical(labels).astype(int)\n",
    "y"
   ]
  },
  {
   "cell_type": "code",
   "execution_count": 33,
   "metadata": {},
   "outputs": [],
   "source": [
    "X_train, X_test, y_train, y_test = train_test_split(X, y, test_size=0.05)"
   ]
  },
  {
   "cell_type": "code",
   "execution_count": 34,
   "metadata": {},
   "outputs": [
    {
     "data": {
      "text/plain": [
       "(798, 28)"
      ]
     },
     "execution_count": 34,
     "metadata": {},
     "output_type": "execute_result"
    }
   ],
   "source": [
    "y_train.shape"
   ]
  },
  {
   "cell_type": "code",
   "execution_count": 35,
   "metadata": {},
   "outputs": [
    {
     "data": {
      "text/plain": [
       "42"
      ]
     },
     "execution_count": 35,
     "metadata": {},
     "output_type": "execute_result"
    }
   ],
   "source": [
    "len(X_test)"
   ]
  },
  {
   "cell_type": "markdown",
   "metadata": {},
   "source": [
    "### Step 7: Build and Train LSTM Neural Network"
   ]
  },
  {
   "cell_type": "code",
   "execution_count": 2,
   "metadata": {},
   "outputs": [],
   "source": [
    "from tensorflow.keras.models import Sequential\n",
    "from tensorflow.keras.layers import LSTM, Dense\n",
    "from tensorflow.keras.callbacks import TensorBoard"
   ]
  },
  {
   "cell_type": "code",
   "execution_count": 5,
   "metadata": {},
   "outputs": [],
   "source": [
    "log_dir = os.path.join('Logs')\n",
    "tb_callback = TensorBoard(log_dir=log_dir)"
   ]
  },
  {
   "cell_type": "code",
   "execution_count": 18,
   "metadata": {},
   "outputs": [],
   "source": [
    "model = Sequential()\n",
    "model.add(LSTM(64, return_sequences=True, activation='relu', input_shape=(30, 1662)))\n",
    "model.add(LSTM(128, return_sequences=True, activation='relu'))\n",
    "model.add(LSTM(64, return_sequences=False, activation='relu'))\n",
    "model.add(Dense(64, activation='relu'))\n",
    "model.add(Dense(32, activation='relu'))\n",
    "model.add(Dense(actions.shape[0], activation='softmax'))"
   ]
  },
  {
   "cell_type": "code",
   "execution_count": 19,
   "metadata": {},
   "outputs": [],
   "source": [
    "model.compile(optimizer='Adamax', loss='categorical_crossentropy', metrics=['accuracy'])"
   ]
  },
  {
   "cell_type": "code",
   "execution_count": 54,
   "metadata": {},
   "outputs": [
    {
     "name": "stdout",
     "output_type": "stream",
     "text": [
      "Epoch 1/200\n",
      "25/25 [==============================] - 6s 68ms/step - loss: 5.1607 - accuracy: 0.0376\n",
      "Epoch 2/200\n",
      "25/25 [==============================] - 2s 68ms/step - loss: 3.3390 - accuracy: 0.0414\n",
      "Epoch 3/200\n",
      "25/25 [==============================] - 2s 67ms/step - loss: 3.2996 - accuracy: 0.0351\n",
      "Epoch 4/200\n",
      "25/25 [==============================] - 2s 68ms/step - loss: 3.2563 - accuracy: 0.0363\n",
      "Epoch 5/200\n",
      "25/25 [==============================] - 2s 68ms/step - loss: 3.1816 - accuracy: 0.0702\n",
      "Epoch 6/200\n",
      "25/25 [==============================] - 2s 66ms/step - loss: 3.1424 - accuracy: 0.0965\n",
      "Epoch 7/200\n",
      "25/25 [==============================] - 2s 67ms/step - loss: 3.1000 - accuracy: 0.1165\n",
      "Epoch 8/200\n",
      "25/25 [==============================] - 2s 67ms/step - loss: 3.0115 - accuracy: 0.1140\n",
      "Epoch 9/200\n",
      "25/25 [==============================] - 2s 71ms/step - loss: 2.9256 - accuracy: 0.1717\n",
      "Epoch 10/200\n",
      "25/25 [==============================] - 2s 71ms/step - loss: 2.8464 - accuracy: 0.1930\n",
      "Epoch 11/200\n",
      "25/25 [==============================] - 2s 69ms/step - loss: 2.8092 - accuracy: 0.1917\n",
      "Epoch 12/200\n",
      "25/25 [==============================] - 2s 68ms/step - loss: 2.7842 - accuracy: 0.2055\n",
      "Epoch 13/200\n",
      "25/25 [==============================] - 2s 68ms/step - loss: 2.7295 - accuracy: 0.2180\n",
      "Epoch 14/200\n",
      "25/25 [==============================] - 2s 66ms/step - loss: 2.7335 - accuracy: 0.2180\n",
      "Epoch 15/200\n",
      "25/25 [==============================] - 2s 72ms/step - loss: 2.7390 - accuracy: 0.1992\n",
      "Epoch 16/200\n",
      "25/25 [==============================] - 2s 70ms/step - loss: 2.5353 - accuracy: 0.2594\n",
      "Epoch 17/200\n",
      "25/25 [==============================] - 2s 71ms/step - loss: 2.6775 - accuracy: 0.2043\n",
      "Epoch 18/200\n",
      "25/25 [==============================] - 2s 73ms/step - loss: 2.6313 - accuracy: 0.2368\n",
      "Epoch 19/200\n",
      "25/25 [==============================] - 2s 71ms/step - loss: 2.5254 - accuracy: 0.2444\n",
      "Epoch 20/200\n",
      "25/25 [==============================] - 2s 73ms/step - loss: 2.5065 - accuracy: 0.2318\n",
      "Epoch 21/200\n",
      "25/25 [==============================] - 2s 70ms/step - loss: 2.5367 - accuracy: 0.2469\n",
      "Epoch 22/200\n",
      "25/25 [==============================] - 2s 71ms/step - loss: 2.4223 - accuracy: 0.2870\n",
      "Epoch 23/200\n",
      "25/25 [==============================] - 2s 70ms/step - loss: 2.4929 - accuracy: 0.2331\n",
      "Epoch 24/200\n",
      "25/25 [==============================] - 2s 74ms/step - loss: 2.3456 - accuracy: 0.3095\n",
      "Epoch 25/200\n",
      "25/25 [==============================] - 2s 70ms/step - loss: 2.2672 - accuracy: 0.3170\n",
      "Epoch 26/200\n",
      "25/25 [==============================] - 2s 70ms/step - loss: 2.2571 - accuracy: 0.3033\n",
      "Epoch 27/200\n",
      "25/25 [==============================] - 2s 69ms/step - loss: 2.3775 - accuracy: 0.2669\n",
      "Epoch 28/200\n",
      "25/25 [==============================] - 2s 69ms/step - loss: 2.2951 - accuracy: 0.2920\n",
      "Epoch 29/200\n",
      "25/25 [==============================] - 2s 70ms/step - loss: 2.1364 - accuracy: 0.3333\n",
      "Epoch 30/200\n",
      "25/25 [==============================] - 2s 70ms/step - loss: 2.2544 - accuracy: 0.3183\n",
      "Epoch 31/200\n",
      "25/25 [==============================] - 2s 70ms/step - loss: 2.2582 - accuracy: 0.2857\n",
      "Epoch 32/200\n",
      "25/25 [==============================] - 2s 66ms/step - loss: 2.1028 - accuracy: 0.3484\n",
      "Epoch 33/200\n",
      "25/25 [==============================] - 2s 67ms/step - loss: 1.9974 - accuracy: 0.3784\n",
      "Epoch 34/200\n",
      "25/25 [==============================] - 2s 68ms/step - loss: 1.9862 - accuracy: 0.3747\n",
      "Epoch 35/200\n",
      "25/25 [==============================] - 2s 69ms/step - loss: 1.9506 - accuracy: 0.4010\n",
      "Epoch 36/200\n",
      "25/25 [==============================] - 2s 73ms/step - loss: 2.1165 - accuracy: 0.3609\n",
      "Epoch 37/200\n",
      "25/25 [==============================] - 2s 66ms/step - loss: 1.8910 - accuracy: 0.4060\n",
      "Epoch 38/200\n",
      "25/25 [==============================] - 2s 67ms/step - loss: 2.0270 - accuracy: 0.3847\n",
      "Epoch 39/200\n",
      "25/25 [==============================] - 2s 68ms/step - loss: 2.0356 - accuracy: 0.3546\n",
      "Epoch 40/200\n",
      "25/25 [==============================] - 2s 76ms/step - loss: 1.9721 - accuracy: 0.3985\n",
      "Epoch 41/200\n",
      "25/25 [==============================] - 2s 72ms/step - loss: 1.7926 - accuracy: 0.4449\n",
      "Epoch 42/200\n",
      "25/25 [==============================] - 2s 70ms/step - loss: 1.7715 - accuracy: 0.4499\n",
      "Epoch 43/200\n",
      "25/25 [==============================] - 2s 71ms/step - loss: 2.0470 - accuracy: 0.3459\n",
      "Epoch 44/200\n",
      "25/25 [==============================] - 2s 71ms/step - loss: 2.0816 - accuracy: 0.3622\n",
      "Epoch 45/200\n",
      "25/25 [==============================] - 2s 70ms/step - loss: 1.8385 - accuracy: 0.4198\n",
      "Epoch 46/200\n",
      "25/25 [==============================] - 2s 73ms/step - loss: 1.7562 - accuracy: 0.4774\n",
      "Epoch 47/200\n",
      "25/25 [==============================] - 2s 70ms/step - loss: 1.7656 - accuracy: 0.4261\n",
      "Epoch 48/200\n",
      "25/25 [==============================] - 2s 70ms/step - loss: 1.6886 - accuracy: 0.4837\n",
      "Epoch 49/200\n",
      "25/25 [==============================] - 2s 70ms/step - loss: 1.7202 - accuracy: 0.4461\n",
      "Epoch 50/200\n",
      "25/25 [==============================] - 2s 69ms/step - loss: 1.7073 - accuracy: 0.4687\n",
      "Epoch 51/200\n",
      "25/25 [==============================] - 2s 71ms/step - loss: 1.5453 - accuracy: 0.5138\n",
      "Epoch 52/200\n",
      "25/25 [==============================] - 2s 70ms/step - loss: 1.7234 - accuracy: 0.4662\n",
      "Epoch 53/200\n",
      "25/25 [==============================] - 2s 71ms/step - loss: 1.5396 - accuracy: 0.5163\n",
      "Epoch 54/200\n",
      "25/25 [==============================] - 2s 71ms/step - loss: 1.6923 - accuracy: 0.4712\n",
      "Epoch 55/200\n",
      "25/25 [==============================] - 2s 71ms/step - loss: 1.8807 - accuracy: 0.4361\n",
      "Epoch 56/200\n",
      "25/25 [==============================] - 2s 71ms/step - loss: 1.5119 - accuracy: 0.5201\n",
      "Epoch 57/200\n",
      "25/25 [==============================] - 2s 70ms/step - loss: 1.4139 - accuracy: 0.5501\n",
      "Epoch 58/200\n",
      "25/25 [==============================] - 2s 71ms/step - loss: 1.5299 - accuracy: 0.5238\n",
      "Epoch 59/200\n",
      "25/25 [==============================] - 2s 70ms/step - loss: 1.5404 - accuracy: 0.4937\n",
      "Epoch 60/200\n",
      "25/25 [==============================] - 2s 72ms/step - loss: 1.3897 - accuracy: 0.5551\n",
      "Epoch 61/200\n",
      "25/25 [==============================] - 2s 72ms/step - loss: 1.2707 - accuracy: 0.6003\n",
      "Epoch 62/200\n",
      "25/25 [==============================] - 2s 71ms/step - loss: 1.4420 - accuracy: 0.5501\n",
      "Epoch 63/200\n",
      "25/25 [==============================] - 2s 73ms/step - loss: 1.2166 - accuracy: 0.6153\n",
      "Epoch 64/200\n",
      "25/25 [==============================] - 2s 73ms/step - loss: 1.4545 - accuracy: 0.5351\n",
      "Epoch 65/200\n",
      "25/25 [==============================] - 2s 71ms/step - loss: 1.5348 - accuracy: 0.5401\n",
      "Epoch 66/200\n",
      "25/25 [==============================] - 2s 70ms/step - loss: 1.2477 - accuracy: 0.6178\n",
      "Epoch 67/200\n",
      "25/25 [==============================] - 2s 70ms/step - loss: 1.1757 - accuracy: 0.6115\n",
      "Epoch 68/200\n",
      "25/25 [==============================] - 2s 71ms/step - loss: 1.1433 - accuracy: 0.6353\n",
      "Epoch 69/200\n",
      "25/25 [==============================] - 2s 70ms/step - loss: 1.0451 - accuracy: 0.6817\n",
      "Epoch 70/200\n",
      "25/25 [==============================] - 2s 76ms/step - loss: 1.1480 - accuracy: 0.6404\n",
      "Epoch 71/200\n",
      "25/25 [==============================] - 2s 72ms/step - loss: 1.1941 - accuracy: 0.6178\n",
      "Epoch 72/200\n",
      "25/25 [==============================] - 2s 73ms/step - loss: 1.1955 - accuracy: 0.6216\n",
      "Epoch 73/200\n",
      "25/25 [==============================] - 2s 74ms/step - loss: 1.2379 - accuracy: 0.6203\n",
      "Epoch 74/200\n",
      "25/25 [==============================] - 2s 74ms/step - loss: 1.2818 - accuracy: 0.5952\n",
      "Epoch 75/200\n",
      "25/25 [==============================] - 2s 73ms/step - loss: 0.9172 - accuracy: 0.7130\n",
      "Epoch 76/200\n",
      "25/25 [==============================] - 2s 76ms/step - loss: 1.0167 - accuracy: 0.6892\n",
      "Epoch 77/200\n",
      "25/25 [==============================] - 2s 71ms/step - loss: 1.0612 - accuracy: 0.6629\n",
      "Epoch 78/200\n",
      "25/25 [==============================] - 2s 71ms/step - loss: 1.1951 - accuracy: 0.6429\n",
      "Epoch 79/200\n",
      "25/25 [==============================] - 2s 71ms/step - loss: 0.9210 - accuracy: 0.6955\n",
      "Epoch 80/200\n",
      "25/25 [==============================] - 2s 70ms/step - loss: 1.0092 - accuracy: 0.6629\n",
      "Epoch 81/200\n",
      "25/25 [==============================] - 2s 70ms/step - loss: 1.0149 - accuracy: 0.6805\n",
      "Epoch 82/200\n",
      "25/25 [==============================] - 2s 69ms/step - loss: 0.9638 - accuracy: 0.6992\n",
      "Epoch 83/200\n",
      "25/25 [==============================] - 2s 71ms/step - loss: 1.3235 - accuracy: 0.5977\n",
      "Epoch 84/200\n",
      "25/25 [==============================] - 2s 72ms/step - loss: 0.9740 - accuracy: 0.6805\n",
      "Epoch 85/200\n",
      "25/25 [==============================] - 2s 75ms/step - loss: 0.8376 - accuracy: 0.7256\n",
      "Epoch 86/200\n",
      "25/25 [==============================] - 2s 72ms/step - loss: 0.7224 - accuracy: 0.7657\n",
      "Epoch 87/200\n",
      "25/25 [==============================] - 2s 70ms/step - loss: 0.7976 - accuracy: 0.7581\n",
      "Epoch 88/200\n",
      "25/25 [==============================] - 2s 70ms/step - loss: 0.8258 - accuracy: 0.7356\n",
      "Epoch 89/200\n",
      "25/25 [==============================] - 2s 70ms/step - loss: 0.9318 - accuracy: 0.7068\n",
      "Epoch 90/200\n",
      "25/25 [==============================] - 2s 70ms/step - loss: 0.6738 - accuracy: 0.7870\n",
      "Epoch 91/200\n",
      "25/25 [==============================] - 2s 69ms/step - loss: 0.6584 - accuracy: 0.7807\n",
      "Epoch 92/200\n",
      "25/25 [==============================] - 2s 70ms/step - loss: 0.7782 - accuracy: 0.7506\n",
      "Epoch 93/200\n",
      "25/25 [==============================] - 2s 71ms/step - loss: 0.7342 - accuracy: 0.7657\n",
      "Epoch 94/200\n",
      "25/25 [==============================] - 2s 70ms/step - loss: 0.8291 - accuracy: 0.7143\n",
      "Epoch 95/200\n",
      "25/25 [==============================] - 2s 70ms/step - loss: 0.6866 - accuracy: 0.7757\n",
      "Epoch 96/200\n",
      "25/25 [==============================] - 2s 71ms/step - loss: 0.7035 - accuracy: 0.7682\n",
      "Epoch 97/200\n",
      "25/25 [==============================] - 2s 70ms/step - loss: 1.1682 - accuracy: 0.6842\n",
      "Epoch 98/200\n",
      "25/25 [==============================] - 2s 70ms/step - loss: 1.6518 - accuracy: 0.5075\n",
      "Epoch 99/200\n",
      "25/25 [==============================] - 2s 69ms/step - loss: 0.9635 - accuracy: 0.7105\n",
      "Epoch 100/200\n",
      "25/25 [==============================] - 2s 72ms/step - loss: 0.6560 - accuracy: 0.7870\n",
      "Epoch 101/200\n",
      "25/25 [==============================] - 2s 70ms/step - loss: 0.5435 - accuracy: 0.8258\n",
      "Epoch 102/200\n",
      "25/25 [==============================] - 2s 71ms/step - loss: 0.5358 - accuracy: 0.8145\n",
      "Epoch 103/200\n",
      "25/25 [==============================] - 2s 76ms/step - loss: 0.5059 - accuracy: 0.8383\n",
      "Epoch 104/200\n",
      "25/25 [==============================] - 2s 72ms/step - loss: 0.5572 - accuracy: 0.8033\n",
      "Epoch 105/200\n",
      "25/25 [==============================] - 2s 72ms/step - loss: 0.5016 - accuracy: 0.8296\n",
      "Epoch 106/200\n",
      "25/25 [==============================] - 2s 70ms/step - loss: 0.6958 - accuracy: 0.7807\n",
      "Epoch 107/200\n",
      "25/25 [==============================] - 2s 70ms/step - loss: 0.6459 - accuracy: 0.8095\n",
      "Epoch 108/200\n",
      "25/25 [==============================] - 2s 70ms/step - loss: 0.4215 - accuracy: 0.8634\n",
      "Epoch 109/200\n",
      "25/25 [==============================] - 2s 71ms/step - loss: 0.4351 - accuracy: 0.8559\n",
      "Epoch 110/200\n",
      "25/25 [==============================] - 2s 71ms/step - loss: 0.4323 - accuracy: 0.8584\n",
      "Epoch 111/200\n",
      "25/25 [==============================] - 2s 71ms/step - loss: 0.4694 - accuracy: 0.8421\n",
      "Epoch 112/200\n",
      "25/25 [==============================] - 2s 72ms/step - loss: 0.4655 - accuracy: 0.8446\n",
      "Epoch 113/200\n",
      "25/25 [==============================] - 2s 72ms/step - loss: 0.4454 - accuracy: 0.8471\n",
      "Epoch 114/200\n",
      "25/25 [==============================] - 2s 72ms/step - loss: 0.3951 - accuracy: 0.8672\n",
      "Epoch 115/200\n",
      "25/25 [==============================] - 2s 70ms/step - loss: 0.4411 - accuracy: 0.8634\n",
      "Epoch 116/200\n",
      "25/25 [==============================] - 2s 71ms/step - loss: 0.4566 - accuracy: 0.8484\n",
      "Epoch 117/200\n",
      "25/25 [==============================] - 2s 71ms/step - loss: 0.4402 - accuracy: 0.8471\n",
      "Epoch 118/200\n",
      "25/25 [==============================] - 2s 70ms/step - loss: 0.5910 - accuracy: 0.8145\n",
      "Epoch 119/200\n",
      "25/25 [==============================] - 2s 70ms/step - loss: 0.4874 - accuracy: 0.8509\n",
      "Epoch 120/200\n",
      "25/25 [==============================] - 2s 72ms/step - loss: 0.6398 - accuracy: 0.7982\n",
      "Epoch 121/200\n",
      "25/25 [==============================] - 2s 69ms/step - loss: 0.4297 - accuracy: 0.8596\n",
      "Epoch 122/200\n",
      "25/25 [==============================] - 2s 71ms/step - loss: 0.4232 - accuracy: 0.8559\n",
      "Epoch 123/200\n",
      "25/25 [==============================] - 2s 70ms/step - loss: 0.5550 - accuracy: 0.8133\n",
      "Epoch 124/200\n",
      "25/25 [==============================] - 2s 70ms/step - loss: 0.4395 - accuracy: 0.8471\n",
      "Epoch 125/200\n",
      "25/25 [==============================] - 2s 70ms/step - loss: 0.4627 - accuracy: 0.8409\n",
      "Epoch 126/200\n",
      "25/25 [==============================] - 2s 72ms/step - loss: 0.3954 - accuracy: 0.8659\n",
      "Epoch 127/200\n",
      "25/25 [==============================] - 2s 70ms/step - loss: 0.3540 - accuracy: 0.8872\n",
      "Epoch 128/200\n",
      "25/25 [==============================] - 2s 72ms/step - loss: 0.3183 - accuracy: 0.8935\n",
      "Epoch 129/200\n",
      "25/25 [==============================] - 2s 70ms/step - loss: 0.2868 - accuracy: 0.9035\n",
      "Epoch 130/200\n",
      "25/25 [==============================] - 2s 70ms/step - loss: 0.4590 - accuracy: 0.8471\n",
      "Epoch 131/200\n",
      "25/25 [==============================] - 2s 71ms/step - loss: 0.7184 - accuracy: 0.7794\n",
      "Epoch 132/200\n",
      "25/25 [==============================] - 2s 70ms/step - loss: 0.4338 - accuracy: 0.8446\n",
      "Epoch 133/200\n",
      "25/25 [==============================] - 2s 70ms/step - loss: 0.3716 - accuracy: 0.8810\n",
      "Epoch 134/200\n",
      "25/25 [==============================] - 2s 72ms/step - loss: 0.4253 - accuracy: 0.8596\n",
      "Epoch 135/200\n",
      "25/25 [==============================] - 2s 71ms/step - loss: 0.5217 - accuracy: 0.8258\n",
      "Epoch 136/200\n",
      "25/25 [==============================] - 2s 72ms/step - loss: 0.3948 - accuracy: 0.8559\n",
      "Epoch 137/200\n",
      "25/25 [==============================] - 2s 71ms/step - loss: 0.4460 - accuracy: 0.8521\n",
      "Epoch 138/200\n",
      "25/25 [==============================] - 2s 70ms/step - loss: 0.7916 - accuracy: 0.7694\n",
      "Epoch 139/200\n",
      "25/25 [==============================] - 2s 70ms/step - loss: 0.3846 - accuracy: 0.8722\n",
      "Epoch 140/200\n",
      "25/25 [==============================] - 2s 71ms/step - loss: 0.2505 - accuracy: 0.9211\n",
      "Epoch 141/200\n",
      "25/25 [==============================] - 2s 70ms/step - loss: 0.2584 - accuracy: 0.9211\n",
      "Epoch 142/200\n",
      "25/25 [==============================] - 2s 71ms/step - loss: 0.2797 - accuracy: 0.9160\n",
      "Epoch 143/200\n",
      "25/25 [==============================] - 2s 70ms/step - loss: 0.4018 - accuracy: 0.8722\n",
      "Epoch 144/200\n",
      "25/25 [==============================] - 2s 71ms/step - loss: 0.8858 - accuracy: 0.7569\n",
      "Epoch 145/200\n",
      "25/25 [==============================] - 2s 70ms/step - loss: 0.8420 - accuracy: 0.7419\n",
      "Epoch 146/200\n",
      "25/25 [==============================] - 2s 71ms/step - loss: 0.3393 - accuracy: 0.8947\n",
      "Epoch 147/200\n",
      "25/25 [==============================] - 2s 70ms/step - loss: 0.2221 - accuracy: 0.9311\n",
      "Epoch 148/200\n",
      "25/25 [==============================] - 2s 73ms/step - loss: 0.1982 - accuracy: 0.9386\n",
      "Epoch 149/200\n",
      "25/25 [==============================] - 2s 70ms/step - loss: 0.2064 - accuracy: 0.9373\n",
      "Epoch 150/200\n",
      "25/25 [==============================] - 2s 70ms/step - loss: 0.1931 - accuracy: 0.9424\n",
      "Epoch 151/200\n",
      "25/25 [==============================] - 2s 70ms/step - loss: 0.1940 - accuracy: 0.9411\n",
      "Epoch 152/200\n",
      "25/25 [==============================] - 2s 72ms/step - loss: 0.1682 - accuracy: 0.9561\n",
      "Epoch 153/200\n",
      "25/25 [==============================] - 2s 70ms/step - loss: 0.1678 - accuracy: 0.9474\n",
      "Epoch 154/200\n",
      "25/25 [==============================] - 2s 70ms/step - loss: 0.2475 - accuracy: 0.9048\n",
      "Epoch 155/200\n",
      "25/25 [==============================] - 2s 70ms/step - loss: 0.2605 - accuracy: 0.9073\n",
      "Epoch 156/200\n",
      "25/25 [==============================] - 2s 70ms/step - loss: 0.2718 - accuracy: 0.9060\n",
      "Epoch 157/200\n",
      "25/25 [==============================] - 2s 70ms/step - loss: 0.4350 - accuracy: 0.8459\n",
      "Epoch 158/200\n",
      "25/25 [==============================] - 2s 70ms/step - loss: 0.4237 - accuracy: 0.8596\n",
      "Epoch 159/200\n",
      "25/25 [==============================] - 2s 70ms/step - loss: 0.3395 - accuracy: 0.8860\n",
      "Epoch 160/200\n",
      "25/25 [==============================] - 2s 72ms/step - loss: 0.6268 - accuracy: 0.7957\n",
      "Epoch 161/200\n",
      "25/25 [==============================] - 2s 71ms/step - loss: 0.4273 - accuracy: 0.8734\n",
      "Epoch 162/200\n",
      "25/25 [==============================] - 2s 71ms/step - loss: 0.3747 - accuracy: 0.8684\n",
      "Epoch 163/200\n",
      "25/25 [==============================] - 2s 71ms/step - loss: 0.2718 - accuracy: 0.9148\n",
      "Epoch 164/200\n",
      "25/25 [==============================] - 2s 70ms/step - loss: 0.1760 - accuracy: 0.9461\n",
      "Epoch 165/200\n",
      "25/25 [==============================] - 2s 71ms/step - loss: 0.3342 - accuracy: 0.8960\n",
      "Epoch 166/200\n",
      "25/25 [==============================] - 2s 70ms/step - loss: 0.3924 - accuracy: 0.8596\n",
      "Epoch 167/200\n",
      "25/25 [==============================] - 2s 70ms/step - loss: 0.2431 - accuracy: 0.9198\n",
      "Epoch 168/200\n",
      "25/25 [==============================] - 2s 70ms/step - loss: 0.4114 - accuracy: 0.8584\n",
      "Epoch 169/200\n",
      "25/25 [==============================] - 2s 76ms/step - loss: 0.3241 - accuracy: 0.8960\n",
      "Epoch 170/200\n",
      "25/25 [==============================] - 2s 73ms/step - loss: 0.2418 - accuracy: 0.9148\n",
      "Epoch 171/200\n",
      "25/25 [==============================] - 2s 74ms/step - loss: 0.1716 - accuracy: 0.9411\n",
      "Epoch 172/200\n",
      "25/25 [==============================] - 2s 71ms/step - loss: 0.2011 - accuracy: 0.9361\n",
      "Epoch 173/200\n",
      "25/25 [==============================] - 2s 71ms/step - loss: 0.5475 - accuracy: 0.8158\n",
      "Epoch 174/200\n",
      "25/25 [==============================] - 2s 73ms/step - loss: 0.7551 - accuracy: 0.7744\n",
      "Epoch 175/200\n",
      "25/25 [==============================] - 2s 73ms/step - loss: 0.4535 - accuracy: 0.8709\n",
      "Epoch 176/200\n",
      "25/25 [==============================] - 2s 75ms/step - loss: 0.3411 - accuracy: 0.8797\n",
      "Epoch 177/200\n",
      "25/25 [==============================] - 2s 73ms/step - loss: 0.1600 - accuracy: 0.9536\n",
      "Epoch 178/200\n",
      "25/25 [==============================] - 2s 72ms/step - loss: 0.1406 - accuracy: 0.9561\n",
      "Epoch 179/200\n",
      "25/25 [==============================] - 2s 70ms/step - loss: 0.1540 - accuracy: 0.9436\n",
      "Epoch 180/200\n",
      "25/25 [==============================] - 2s 71ms/step - loss: 0.2826 - accuracy: 0.9048\n",
      "Epoch 181/200\n",
      "25/25 [==============================] - 2s 68ms/step - loss: 0.3233 - accuracy: 0.8885\n",
      "Epoch 182/200\n",
      "25/25 [==============================] - 2s 67ms/step - loss: 0.3116 - accuracy: 0.8947\n",
      "Epoch 183/200\n",
      "25/25 [==============================] - 2s 68ms/step - loss: 0.9639 - accuracy: 0.7381\n",
      "Epoch 184/200\n",
      "25/25 [==============================] - 2s 75ms/step - loss: 0.4706 - accuracy: 0.8471\n",
      "Epoch 185/200\n",
      "25/25 [==============================] - 2s 72ms/step - loss: 0.8226 - accuracy: 0.7481\n",
      "Epoch 186/200\n",
      "25/25 [==============================] - 2s 71ms/step - loss: 0.3574 - accuracy: 0.8847\n",
      "Epoch 187/200\n",
      "25/25 [==============================] - 2s 71ms/step - loss: 0.3519 - accuracy: 0.8772\n",
      "Epoch 188/200\n",
      "25/25 [==============================] - 2s 72ms/step - loss: 0.1512 - accuracy: 0.9586\n",
      "Epoch 189/200\n",
      "25/25 [==============================] - 2s 72ms/step - loss: 0.1170 - accuracy: 0.9649\n",
      "Epoch 190/200\n",
      "25/25 [==============================] - 2s 73ms/step - loss: 0.1110 - accuracy: 0.9712\n",
      "Epoch 191/200\n",
      "25/25 [==============================] - 2s 72ms/step - loss: 0.1994 - accuracy: 0.9386\n",
      "Epoch 192/200\n",
      "25/25 [==============================] - 2s 70ms/step - loss: 0.2581 - accuracy: 0.9160\n",
      "Epoch 193/200\n",
      "25/25 [==============================] - 2s 71ms/step - loss: 0.1835 - accuracy: 0.9361\n",
      "Epoch 194/200\n",
      "25/25 [==============================] - 2s 72ms/step - loss: 0.2991 - accuracy: 0.8985\n",
      "Epoch 195/200\n",
      "25/25 [==============================] - 2s 71ms/step - loss: 0.3248 - accuracy: 0.8872\n",
      "Epoch 196/200\n",
      "25/25 [==============================] - 2s 70ms/step - loss: 0.2717 - accuracy: 0.9110\n",
      "Epoch 197/200\n",
      "25/25 [==============================] - 2s 71ms/step - loss: 0.6496 - accuracy: 0.8033\n",
      "Epoch 198/200\n",
      "25/25 [==============================] - 2s 71ms/step - loss: 0.2835 - accuracy: 0.9098\n",
      "Epoch 199/200\n",
      "25/25 [==============================] - 2s 73ms/step - loss: 0.2029 - accuracy: 0.9236\n",
      "Epoch 200/200\n",
      "25/25 [==============================] - 2s 73ms/step - loss: 0.1532 - accuracy: 0.9511\n"
     ]
    },
    {
     "data": {
      "text/plain": [
       "<keras.src.callbacks.History at 0x29b945d6610>"
      ]
     },
     "execution_count": 54,
     "metadata": {},
     "output_type": "execute_result"
    }
   ],
   "source": [
    "# model.fit(X_train, y_train, epochs=284, callbacks=[tb_callback])\n",
    "model.fit(X_train, y_train, epochs=200, callbacks=[tb_callback])"
   ]
  },
  {
   "cell_type": "code",
   "execution_count": 29,
   "metadata": {},
   "outputs": [
    {
     "name": "stdout",
     "output_type": "stream",
     "text": [
      "Model: \"sequential\"\n",
      "_________________________________________________________________\n",
      " Layer (type)                Output Shape              Param #   \n",
      "=================================================================\n",
      " lstm (LSTM)                 (None, 30, 64)            442112    \n",
      "                                                                 \n",
      " lstm_1 (LSTM)               (None, 30, 128)           98816     \n",
      "                                                                 \n",
      " lstm_2 (LSTM)               (None, 64)                49408     \n",
      "                                                                 \n",
      " dense (Dense)               (None, 64)                4160      \n",
      "                                                                 \n",
      " dense_1 (Dense)             (None, 32)                2080      \n",
      "                                                                 \n",
      " dense_2 (Dense)             (None, 28)                924       \n",
      "                                                                 \n",
      "=================================================================\n",
      "Total params: 597500 (2.28 MB)\n",
      "Trainable params: 597500 (2.28 MB)\n",
      "Non-trainable params: 0 (0.00 Byte)\n",
      "_________________________________________________________________\n"
     ]
    }
   ],
   "source": [
    "model.summary()"
   ]
  },
  {
   "cell_type": "markdown",
   "metadata": {},
   "source": [
    "### Step 8: Make Predictions"
   ]
  },
  {
   "cell_type": "code",
   "execution_count": 37,
   "metadata": {},
   "outputs": [
    {
     "name": "stdout",
     "output_type": "stream",
     "text": [
      "2/2 [==============================] - 0s 11ms/step\n"
     ]
    }
   ],
   "source": [
    "res = model.predict(X_test)"
   ]
  },
  {
   "cell_type": "code",
   "execution_count": 38,
   "metadata": {},
   "outputs": [
    {
     "data": {
      "text/plain": [
       "'H'"
      ]
     },
     "execution_count": 38,
     "metadata": {},
     "output_type": "execute_result"
    }
   ],
   "source": [
    "actions[np.argmax(res[5])]"
   ]
  },
  {
   "cell_type": "code",
   "execution_count": 39,
   "metadata": {},
   "outputs": [
    {
     "data": {
      "text/plain": [
       "'H'"
      ]
     },
     "execution_count": 39,
     "metadata": {},
     "output_type": "execute_result"
    }
   ],
   "source": [
    "actions[np.argmax(y_test[5])]"
   ]
  },
  {
   "cell_type": "markdown",
   "metadata": {},
   "source": [
    "### Step 9: Save Weights"
   ]
  },
  {
   "cell_type": "code",
   "execution_count": null,
   "metadata": {},
   "outputs": [],
   "source": [
    "import pickle\n",
    "pickle.dump(model, open('model.pkl', 'wb'))"
   ]
  },
  {
   "cell_type": "code",
   "execution_count": 37,
   "metadata": {},
   "outputs": [
    {
     "name": "stderr",
     "output_type": "stream",
     "text": [
      "c:\\Users\\banan\\Desktop\\FluentHands\\FluentHands\\.venv\\lib\\site-packages\\keras\\src\\engine\\training.py:3000: UserWarning: You are saving your model as an HDF5 file via `model.save()`. This file format is considered legacy. We recommend using instead the native Keras format, e.g. `model.save('my_model.keras')`.\n",
      "  saving_api.save_model(\n"
     ]
    }
   ],
   "source": [
    "# model.save('action.json')\n",
    "model.save('action_new.h5')"
   ]
  },
  {
   "cell_type": "code",
   "execution_count": 36,
   "metadata": {},
   "outputs": [],
   "source": [
    "model.load_weights('action_new.h5')"
   ]
  },
  {
   "cell_type": "markdown",
   "metadata": {},
   "source": [
    "### Step 10: Evaluation using Confusion Matrix and Accuracy"
   ]
  },
  {
   "cell_type": "code",
   "execution_count": 45,
   "metadata": {},
   "outputs": [],
   "source": [
    "from sklearn.metrics import multilabel_confusion_matrix, accuracy_score"
   ]
  },
  {
   "cell_type": "code",
   "execution_count": 40,
   "metadata": {},
   "outputs": [
    {
     "name": "stdout",
     "output_type": "stream",
     "text": [
      "2/2 [==============================] - 0s 10ms/step\n"
     ]
    }
   ],
   "source": [
    "yhat = model.predict(X_test)"
   ]
  },
  {
   "cell_type": "code",
   "execution_count": 41,
   "metadata": {},
   "outputs": [],
   "source": [
    "\n",
    "ytrue = np.argmax(y_test, axis=1).tolist()\n",
    "yhat = np.argmax(yhat, axis=1).tolist()"
   ]
  },
  {
   "cell_type": "code",
   "execution_count": 42,
   "metadata": {},
   "outputs": [
    {
     "data": {
      "text/plain": [
       "[16,\n",
       " 22,\n",
       " 22,\n",
       " 0,\n",
       " 22,\n",
       " 7,\n",
       " 3,\n",
       " 22,\n",
       " 11,\n",
       " 16,\n",
       " 24,\n",
       " 25,\n",
       " 7,\n",
       " 5,\n",
       " 1,\n",
       " 19,\n",
       " 10,\n",
       " 7,\n",
       " 21,\n",
       " 4,\n",
       " 14,\n",
       " 23,\n",
       " 21,\n",
       " 7,\n",
       " 4,\n",
       " 23,\n",
       " 3,\n",
       " 25,\n",
       " 1,\n",
       " 24,\n",
       " 12,\n",
       " 10,\n",
       " 7,\n",
       " 19,\n",
       " 15,\n",
       " 22,\n",
       " 18,\n",
       " 0,\n",
       " 22,\n",
       " 25,\n",
       " 3,\n",
       " 19]"
      ]
     },
     "execution_count": 42,
     "metadata": {},
     "output_type": "execute_result"
    }
   ],
   "source": [
    "yhat"
   ]
  },
  {
   "cell_type": "code",
   "execution_count": 43,
   "metadata": {},
   "outputs": [
    {
     "data": {
      "text/plain": [
       "[16,\n",
       " 22,\n",
       " 22,\n",
       " 0,\n",
       " 22,\n",
       " 7,\n",
       " 3,\n",
       " 22,\n",
       " 11,\n",
       " 16,\n",
       " 24,\n",
       " 25,\n",
       " 7,\n",
       " 5,\n",
       " 1,\n",
       " 19,\n",
       " 10,\n",
       " 7,\n",
       " 21,\n",
       " 4,\n",
       " 14,\n",
       " 23,\n",
       " 20,\n",
       " 7,\n",
       " 4,\n",
       " 23,\n",
       " 3,\n",
       " 25,\n",
       " 1,\n",
       " 24,\n",
       " 12,\n",
       " 10,\n",
       " 7,\n",
       " 18,\n",
       " 15,\n",
       " 22,\n",
       " 18,\n",
       " 0,\n",
       " 22,\n",
       " 25,\n",
       " 3,\n",
       " 19]"
      ]
     },
     "execution_count": 43,
     "metadata": {},
     "output_type": "execute_result"
    }
   ],
   "source": [
    "ytrue"
   ]
  },
  {
   "cell_type": "code",
   "execution_count": 46,
   "metadata": {},
   "outputs": [
    {
     "data": {
      "text/plain": [
       "array([[[40,  0],\n",
       "        [ 0,  2]],\n",
       "\n",
       "       [[40,  0],\n",
       "        [ 0,  2]],\n",
       "\n",
       "       [[39,  0],\n",
       "        [ 0,  3]],\n",
       "\n",
       "       [[40,  0],\n",
       "        [ 0,  2]],\n",
       "\n",
       "       [[41,  0],\n",
       "        [ 0,  1]],\n",
       "\n",
       "       [[37,  0],\n",
       "        [ 0,  5]],\n",
       "\n",
       "       [[40,  0],\n",
       "        [ 0,  2]],\n",
       "\n",
       "       [[41,  0],\n",
       "        [ 0,  1]],\n",
       "\n",
       "       [[41,  0],\n",
       "        [ 0,  1]],\n",
       "\n",
       "       [[41,  0],\n",
       "        [ 0,  1]],\n",
       "\n",
       "       [[41,  0],\n",
       "        [ 0,  1]],\n",
       "\n",
       "       [[40,  0],\n",
       "        [ 0,  2]],\n",
       "\n",
       "       [[40,  0],\n",
       "        [ 1,  1]],\n",
       "\n",
       "       [[39,  1],\n",
       "        [ 0,  2]],\n",
       "\n",
       "       [[41,  0],\n",
       "        [ 1,  0]],\n",
       "\n",
       "       [[40,  1],\n",
       "        [ 0,  1]],\n",
       "\n",
       "       [[36,  0],\n",
       "        [ 0,  6]],\n",
       "\n",
       "       [[40,  0],\n",
       "        [ 0,  2]],\n",
       "\n",
       "       [[40,  0],\n",
       "        [ 0,  2]],\n",
       "\n",
       "       [[39,  0],\n",
       "        [ 0,  3]]], dtype=int64)"
      ]
     },
     "execution_count": 46,
     "metadata": {},
     "output_type": "execute_result"
    }
   ],
   "source": [
    "multilabel_confusion_matrix(ytrue, yhat)"
   ]
  },
  {
   "cell_type": "code",
   "execution_count": 47,
   "metadata": {},
   "outputs": [
    {
     "data": {
      "text/plain": [
       "0.9523809523809523"
      ]
     },
     "execution_count": 47,
     "metadata": {},
     "output_type": "execute_result"
    }
   ],
   "source": [
    "accuracy_score(ytrue, yhat)"
   ]
  },
  {
   "cell_type": "markdown",
   "metadata": {},
   "source": [
    "### Step 11: Test in Real Time"
   ]
  },
  {
   "cell_type": "code",
   "execution_count": 38,
   "metadata": {},
   "outputs": [],
   "source": [
    "colors = [(245,117,16), (117,245,16), (16,117,245)]\n",
    "def prob_viz(res, actions, input_frame, colors):\n",
    "    output_frame = input_frame.copy()\n",
    "    for num, prob in enumerate(res):\n",
    "        cv2.rectangle(output_frame, (0,60+num*40), (int(prob*100), 90+num*40), colors[num], -1)\n",
    "        cv2.putText(output_frame, actions[num], (0, 85+num*40), cv2.FONT_HERSHEY_SIMPLEX, 1, (255,255,255), 2, cv2.LINE_AA)\n",
    "        \n",
    "    return output_frame"
   ]
  },
  {
   "cell_type": "code",
   "execution_count": 39,
   "metadata": {},
   "outputs": [
    {
     "name": "stdout",
     "output_type": "stream",
     "text": [
      "1/1 [==============================] - 0s 25ms/step\n",
      "sequence:  [array([ 0.35630441,  0.45987695, -0.86650926, ...,  0.        ,\n",
      "        0.        ,  0.        ]), array([ 0.35720187,  0.45968679, -0.79615319, ...,  0.        ,\n",
      "        0.        ,  0.        ]), array([ 0.35755199,  0.45946664, -0.78414339, ...,  0.        ,\n",
      "        0.        ,  0.        ]), array([ 0.35915434,  0.45961809, -0.7320441 , ...,  0.        ,\n",
      "        0.        ,  0.        ]), array([ 0.36019656,  0.4598757 , -0.76666754, ...,  0.        ,\n",
      "        0.        ,  0.        ]), array([ 0.36163741,  0.45987812, -0.77763826, ...,  0.        ,\n",
      "        0.        ,  0.        ]), array([ 0.36246556,  0.4598732 , -0.72000152, ...,  0.        ,\n",
      "        0.        ,  0.        ]), array([ 0.36331969,  0.45985696, -0.73587692, ...,  0.        ,\n",
      "        0.        ,  0.        ]), array([ 0.36442015,  0.46002415, -0.73964107, ...,  0.        ,\n",
      "        0.        ,  0.        ]), array([ 0.36644372,  0.45956641, -0.69427419, ...,  0.        ,\n",
      "        0.        ,  0.        ]), array([ 0.36818463,  0.45950049, -0.60250646, ...,  0.        ,\n",
      "        0.        ,  0.        ]), array([ 0.36862016,  0.46013433, -0.6828872 , ...,  0.        ,\n",
      "        0.        ,  0.        ]), array([ 0.36892286,  0.46058294, -0.7153486 , ...,  0.        ,\n",
      "        0.        ,  0.        ]), array([ 0.37064865,  0.46071717, -0.61738431, ...,  0.        ,\n",
      "        0.        ,  0.        ]), array([ 0.37193763,  0.46197638, -0.58959472, ...,  0.        ,\n",
      "        0.        ,  0.        ]), array([ 0.37247363,  0.46378669, -0.62168819, ...,  0.        ,\n",
      "        0.        ,  0.        ]), array([ 0.37327239,  0.46553069, -0.60919732, ...,  0.        ,\n",
      "        0.        ,  0.        ]), array([ 0.3744117 ,  0.46635988, -0.62041271, ...,  0.        ,\n",
      "        0.        ,  0.        ]), array([ 0.37442207,  0.46769473, -0.63231826, ...,  0.        ,\n",
      "        0.        ,  0.        ]), array([ 0.37438303,  0.46885058, -0.59592664, ...,  0.        ,\n",
      "        0.        ,  0.        ]), array([ 0.37438935,  0.47002646, -0.60047817, ...,  0.        ,\n",
      "        0.        ,  0.        ]), array([ 0.37443757,  0.47046867, -0.75958735, ...,  0.        ,\n",
      "        0.        ,  0.        ]), array([ 0.37448028,  0.47118923, -0.72361147, ...,  0.        ,\n",
      "        0.        ,  0.        ]), array([ 0.37373027,  0.47079232, -0.80271494, ...,  0.        ,\n",
      "        0.        ,  0.        ]), array([ 0.37325907,  0.47019276, -0.75434786, ...,  0.        ,\n",
      "        0.        ,  0.        ]), array([ 0.37185279,  0.4696461 , -0.70221883, ...,  0.        ,\n",
      "        0.        ,  0.        ]), array([ 0.3718968 ,  0.46882838, -0.67666662, ...,  0.        ,\n",
      "        0.        ,  0.        ]), array([ 0.37174153,  0.46881309, -0.69649196, ...,  0.        ,\n",
      "        0.        ,  0.        ]), array([ 0.37173265,  0.46872127, -0.63727623, ...,  0.        ,\n",
      "        0.        ,  0.        ]), array([ 0.37196225,  0.46884266, -0.63184011, ...,  0.        ,\n",
      "        0.        ,  0.        ])]\n",
      "Z\n"
     ]
    },
    {
     "ename": "IndexError",
     "evalue": "list index out of range",
     "output_type": "error",
     "traceback": [
      "\u001b[1;31m---------------------------------------------------------------------------\u001b[0m",
      "\u001b[1;31mIndexError\u001b[0m                                Traceback (most recent call last)",
      "Cell \u001b[1;32mIn[39], line 48\u001b[0m\n\u001b[0;32m     45\u001b[0m         sentence \u001b[38;5;241m=\u001b[39m sentence[\u001b[38;5;241m-\u001b[39m\u001b[38;5;241m5\u001b[39m:]\n\u001b[0;32m     47\u001b[0m     \u001b[38;5;66;03m# Visualization probabilities\u001b[39;00m\n\u001b[1;32m---> 48\u001b[0m     image \u001b[38;5;241m=\u001b[39m \u001b[43mprob_viz\u001b[49m\u001b[43m(\u001b[49m\u001b[43mres\u001b[49m\u001b[43m,\u001b[49m\u001b[43m \u001b[49m\u001b[43mactions\u001b[49m\u001b[43m,\u001b[49m\u001b[43m \u001b[49m\u001b[43mimage\u001b[49m\u001b[43m,\u001b[49m\u001b[43m \u001b[49m\u001b[43mcolors\u001b[49m\u001b[43m)\u001b[49m\n\u001b[0;32m     50\u001b[0m cv2\u001b[38;5;241m.\u001b[39mrectangle(image, (\u001b[38;5;241m0\u001b[39m,\u001b[38;5;241m0\u001b[39m), (\u001b[38;5;241m640\u001b[39m, \u001b[38;5;241m40\u001b[39m), (\u001b[38;5;241m245\u001b[39m, \u001b[38;5;241m117\u001b[39m, \u001b[38;5;241m16\u001b[39m), \u001b[38;5;241m-\u001b[39m\u001b[38;5;241m1\u001b[39m)\n\u001b[0;32m     51\u001b[0m cv2\u001b[38;5;241m.\u001b[39mputText(image, \u001b[38;5;124m'\u001b[39m\u001b[38;5;124m \u001b[39m\u001b[38;5;124m'\u001b[39m\u001b[38;5;241m.\u001b[39mjoin(sentence), (\u001b[38;5;241m3\u001b[39m,\u001b[38;5;241m30\u001b[39m), \n\u001b[0;32m     52\u001b[0m                 cv2\u001b[38;5;241m.\u001b[39mFONT_HERSHEY_SIMPLEX, \u001b[38;5;241m1\u001b[39m, (\u001b[38;5;241m255\u001b[39m, \u001b[38;5;241m255\u001b[39m, \u001b[38;5;241m255\u001b[39m), \u001b[38;5;241m2\u001b[39m, cv2\u001b[38;5;241m.\u001b[39mLINE_AA)\n",
      "Cell \u001b[1;32mIn[38], line 5\u001b[0m, in \u001b[0;36mprob_viz\u001b[1;34m(res, actions, input_frame, colors)\u001b[0m\n\u001b[0;32m      3\u001b[0m output_frame \u001b[38;5;241m=\u001b[39m input_frame\u001b[38;5;241m.\u001b[39mcopy()\n\u001b[0;32m      4\u001b[0m \u001b[38;5;28;01mfor\u001b[39;00m num, prob \u001b[38;5;129;01min\u001b[39;00m \u001b[38;5;28menumerate\u001b[39m(res):\n\u001b[1;32m----> 5\u001b[0m     cv2\u001b[38;5;241m.\u001b[39mrectangle(output_frame, (\u001b[38;5;241m0\u001b[39m,\u001b[38;5;241m60\u001b[39m\u001b[38;5;241m+\u001b[39mnum\u001b[38;5;241m*\u001b[39m\u001b[38;5;241m40\u001b[39m), (\u001b[38;5;28mint\u001b[39m(prob\u001b[38;5;241m*\u001b[39m\u001b[38;5;241m100\u001b[39m), \u001b[38;5;241m90\u001b[39m\u001b[38;5;241m+\u001b[39mnum\u001b[38;5;241m*\u001b[39m\u001b[38;5;241m40\u001b[39m), \u001b[43mcolors\u001b[49m\u001b[43m[\u001b[49m\u001b[43mnum\u001b[49m\u001b[43m]\u001b[49m, \u001b[38;5;241m-\u001b[39m\u001b[38;5;241m1\u001b[39m)\n\u001b[0;32m      6\u001b[0m     cv2\u001b[38;5;241m.\u001b[39mputText(output_frame, actions[num], (\u001b[38;5;241m0\u001b[39m, \u001b[38;5;241m85\u001b[39m\u001b[38;5;241m+\u001b[39mnum\u001b[38;5;241m*\u001b[39m\u001b[38;5;241m40\u001b[39m), cv2\u001b[38;5;241m.\u001b[39mFONT_HERSHEY_SIMPLEX, \u001b[38;5;241m1\u001b[39m, (\u001b[38;5;241m255\u001b[39m,\u001b[38;5;241m255\u001b[39m,\u001b[38;5;241m255\u001b[39m), \u001b[38;5;241m2\u001b[39m, cv2\u001b[38;5;241m.\u001b[39mLINE_AA)\n\u001b[0;32m      8\u001b[0m \u001b[38;5;28;01mreturn\u001b[39;00m output_frame\n",
      "\u001b[1;31mIndexError\u001b[0m: list index out of range"
     ]
    },
    {
     "ename": "",
     "evalue": "",
     "output_type": "error",
     "traceback": [
      "\u001b[1;31mThe Kernel crashed while executing code in the current cell or a previous cell. \n",
      "\u001b[1;31mPlease review the code in the cell(s) to identify a possible cause of the failure. \n",
      "\u001b[1;31mClick <a href='https://aka.ms/vscodeJupyterKernelCrash'>here</a> for more info. \n",
      "\u001b[1;31mView Jupyter <a href='command:jupyter.viewOutput'>log</a> for further details."
     ]
    }
   ],
   "source": [
    "# 1. New detection variables\n",
    "sequence = []\n",
    "sentence = []\n",
    "predictions = []\n",
    "threshold = 0.7\n",
    "\n",
    "cap = cv2.VideoCapture(0)\n",
    "# Set mediapipe model \n",
    "with mp_holistic.Holistic(min_detection_confidence=0.5, min_tracking_confidence=0.5) as holistic:\n",
    "    while cap.isOpened():\n",
    "\n",
    "        # Read feed\n",
    "        ret, frame = cap.read()\n",
    "\n",
    "        # Make detections\n",
    "        image, results = mediapipe_detection(frame, holistic)\n",
    "        # print(results)\n",
    "        \n",
    "        # Draw landmarks\n",
    "        draw_landmarks(image, results)\n",
    "        \n",
    "        # Prediction logic\n",
    "        keypoints = extract_keypoints(results)\n",
    "        sequence.append(keypoints)\n",
    "        sequence = sequence[-30:]\n",
    "        \n",
    "        if len(sequence) == 30:\n",
    "            res = model.predict(np.expand_dims(sequence, axis=0))[0]\n",
    "            print('sequence: ', sequence)\n",
    "            print(actions[np.argmax(res)])\n",
    "            predictions.append(np.argmax(res))\n",
    "            \n",
    "            \n",
    "            # Visualization logic\n",
    "            # if np.unique(predictions[-10:])[0]==np.argmax(res): \n",
    "            #     if res[np.argmax(res)] > threshold: \n",
    "                    \n",
    "            #         if len(sentence) > 0: \n",
    "            #             if actions[np.argmax(res)] != sentence[-1]:\n",
    "            #                 sentence.append(actions[np.argmax(res)])\n",
    "            #         else:\n",
    "            #             sentence.append(actions[np.argmax(res)])\n",
    "\n",
    "            if len(sentence) > 5: \n",
    "                sentence = sentence[-5:]\n",
    "\n",
    "            # Visualization probabilities\n",
    "            image = prob_viz(res, actions, image, colors)\n",
    "            \n",
    "        cv2.rectangle(image, (0,0), (640, 40), (245, 117, 16), -1)\n",
    "        cv2.putText(image, ' '.join(sentence), (3,30), \n",
    "                        cv2.FONT_HERSHEY_SIMPLEX, 1, (255, 255, 255), 2, cv2.LINE_AA)\n",
    "        \n",
    "        # Show to screen\n",
    "        cv2.imshow('FluentHands Feed', image)\n",
    "\n",
    "        # Break gracefully\n",
    "        if cv2.waitKey(10) & 0xFF == ord('q'):\n",
    "            break\n",
    "        \n",
    "    cap.release()\n",
    "    cv2.destroyAllWindows()"
   ]
  },
  {
   "cell_type": "code",
   "execution_count": null,
   "metadata": {},
   "outputs": [],
   "source": [
    "# Emergency Camera Release\n",
    "cap.release()\n",
    "cv2.destroyAllWindows()"
   ]
  }
 ],
 "metadata": {
  "kernelspec": {
   "display_name": "venv",
   "language": "python",
   "name": "python3"
  },
  "language_info": {
   "codemirror_mode": {
    "name": "ipython",
    "version": 3
   },
   "file_extension": ".py",
   "mimetype": "text/x-python",
   "name": "python",
   "nbconvert_exporter": "python",
   "pygments_lexer": "ipython3",
   "version": "3.8.10"
  }
 },
 "nbformat": 4,
 "nbformat_minor": 2
}
